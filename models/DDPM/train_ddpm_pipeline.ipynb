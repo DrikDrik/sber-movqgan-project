{
  "nbformat": 4,
  "nbformat_minor": 0,
  "metadata": {
    "colab": {
      "provenance": [],
      "gpuType": "T4"
    },
    "kernelspec": {
      "name": "python3",
      "display_name": "Python 3"
    },
    "language_info": {
      "name": "python"
    },
    "accelerator": "GPU",
    "widgets": {
      "application/vnd.jupyter.widget-state+json": {
        "bbf6a60d0a7b45e39d45045a471f2a63": {
          "model_module": "@jupyter-widgets/controls",
          "model_name": "HBoxModel",
          "model_module_version": "1.5.0",
          "state": {
            "_dom_classes": [],
            "_model_module": "@jupyter-widgets/controls",
            "_model_module_version": "1.5.0",
            "_model_name": "HBoxModel",
            "_view_count": null,
            "_view_module": "@jupyter-widgets/controls",
            "_view_module_version": "1.5.0",
            "_view_name": "HBoxView",
            "box_style": "",
            "children": [
              "IPY_MODEL_3e1402d931ee4567899273df662a3819",
              "IPY_MODEL_e3f9f5981deb4091be0eb9ded9a8f054",
              "IPY_MODEL_22dcb0051afa4dc7a433d4bcddfda0eb"
            ],
            "layout": "IPY_MODEL_bcef91315cda41138e3d73330ea0d0e4"
          }
        },
        "3e1402d931ee4567899273df662a3819": {
          "model_module": "@jupyter-widgets/controls",
          "model_name": "HTMLModel",
          "model_module_version": "1.5.0",
          "state": {
            "_dom_classes": [],
            "_model_module": "@jupyter-widgets/controls",
            "_model_module_version": "1.5.0",
            "_model_name": "HTMLModel",
            "_view_count": null,
            "_view_module": "@jupyter-widgets/controls",
            "_view_module_version": "1.5.0",
            "_view_name": "HTMLView",
            "description": "",
            "description_tooltip": null,
            "layout": "IPY_MODEL_ebc6c89a0d704433992d8a2a5e42d96a",
            "placeholder": "​",
            "style": "IPY_MODEL_f86416505f864e1d9f4b5725fdcfba24",
            "value": "movqgan_67M.ckpt: 100%"
          }
        },
        "e3f9f5981deb4091be0eb9ded9a8f054": {
          "model_module": "@jupyter-widgets/controls",
          "model_name": "FloatProgressModel",
          "model_module_version": "1.5.0",
          "state": {
            "_dom_classes": [],
            "_model_module": "@jupyter-widgets/controls",
            "_model_module_version": "1.5.0",
            "_model_name": "FloatProgressModel",
            "_view_count": null,
            "_view_module": "@jupyter-widgets/controls",
            "_view_module_version": "1.5.0",
            "_view_name": "ProgressView",
            "bar_style": "success",
            "description": "",
            "description_tooltip": null,
            "layout": "IPY_MODEL_84bc2850a98440e5a72acf17e3e5d952",
            "max": 271481827,
            "min": 0,
            "orientation": "horizontal",
            "style": "IPY_MODEL_8d30f46f009748ffa9c6ef521527613f",
            "value": 271481827
          }
        },
        "22dcb0051afa4dc7a433d4bcddfda0eb": {
          "model_module": "@jupyter-widgets/controls",
          "model_name": "HTMLModel",
          "model_module_version": "1.5.0",
          "state": {
            "_dom_classes": [],
            "_model_module": "@jupyter-widgets/controls",
            "_model_module_version": "1.5.0",
            "_model_name": "HTMLModel",
            "_view_count": null,
            "_view_module": "@jupyter-widgets/controls",
            "_view_module_version": "1.5.0",
            "_view_name": "HTMLView",
            "description": "",
            "description_tooltip": null,
            "layout": "IPY_MODEL_bbe4340e7d2146778bb26a4ef4abbf66",
            "placeholder": "​",
            "style": "IPY_MODEL_4b320c08c6d14720bc791f0b70cb0300",
            "value": " 271M/271M [00:01&lt;00:00, 273MB/s]"
          }
        },
        "bcef91315cda41138e3d73330ea0d0e4": {
          "model_module": "@jupyter-widgets/base",
          "model_name": "LayoutModel",
          "model_module_version": "1.2.0",
          "state": {
            "_model_module": "@jupyter-widgets/base",
            "_model_module_version": "1.2.0",
            "_model_name": "LayoutModel",
            "_view_count": null,
            "_view_module": "@jupyter-widgets/base",
            "_view_module_version": "1.2.0",
            "_view_name": "LayoutView",
            "align_content": null,
            "align_items": null,
            "align_self": null,
            "border": null,
            "bottom": null,
            "display": null,
            "flex": null,
            "flex_flow": null,
            "grid_area": null,
            "grid_auto_columns": null,
            "grid_auto_flow": null,
            "grid_auto_rows": null,
            "grid_column": null,
            "grid_gap": null,
            "grid_row": null,
            "grid_template_areas": null,
            "grid_template_columns": null,
            "grid_template_rows": null,
            "height": null,
            "justify_content": null,
            "justify_items": null,
            "left": null,
            "margin": null,
            "max_height": null,
            "max_width": null,
            "min_height": null,
            "min_width": null,
            "object_fit": null,
            "object_position": null,
            "order": null,
            "overflow": null,
            "overflow_x": null,
            "overflow_y": null,
            "padding": null,
            "right": null,
            "top": null,
            "visibility": null,
            "width": null
          }
        },
        "ebc6c89a0d704433992d8a2a5e42d96a": {
          "model_module": "@jupyter-widgets/base",
          "model_name": "LayoutModel",
          "model_module_version": "1.2.0",
          "state": {
            "_model_module": "@jupyter-widgets/base",
            "_model_module_version": "1.2.0",
            "_model_name": "LayoutModel",
            "_view_count": null,
            "_view_module": "@jupyter-widgets/base",
            "_view_module_version": "1.2.0",
            "_view_name": "LayoutView",
            "align_content": null,
            "align_items": null,
            "align_self": null,
            "border": null,
            "bottom": null,
            "display": null,
            "flex": null,
            "flex_flow": null,
            "grid_area": null,
            "grid_auto_columns": null,
            "grid_auto_flow": null,
            "grid_auto_rows": null,
            "grid_column": null,
            "grid_gap": null,
            "grid_row": null,
            "grid_template_areas": null,
            "grid_template_columns": null,
            "grid_template_rows": null,
            "height": null,
            "justify_content": null,
            "justify_items": null,
            "left": null,
            "margin": null,
            "max_height": null,
            "max_width": null,
            "min_height": null,
            "min_width": null,
            "object_fit": null,
            "object_position": null,
            "order": null,
            "overflow": null,
            "overflow_x": null,
            "overflow_y": null,
            "padding": null,
            "right": null,
            "top": null,
            "visibility": null,
            "width": null
          }
        },
        "f86416505f864e1d9f4b5725fdcfba24": {
          "model_module": "@jupyter-widgets/controls",
          "model_name": "DescriptionStyleModel",
          "model_module_version": "1.5.0",
          "state": {
            "_model_module": "@jupyter-widgets/controls",
            "_model_module_version": "1.5.0",
            "_model_name": "DescriptionStyleModel",
            "_view_count": null,
            "_view_module": "@jupyter-widgets/base",
            "_view_module_version": "1.2.0",
            "_view_name": "StyleView",
            "description_width": ""
          }
        },
        "84bc2850a98440e5a72acf17e3e5d952": {
          "model_module": "@jupyter-widgets/base",
          "model_name": "LayoutModel",
          "model_module_version": "1.2.0",
          "state": {
            "_model_module": "@jupyter-widgets/base",
            "_model_module_version": "1.2.0",
            "_model_name": "LayoutModel",
            "_view_count": null,
            "_view_module": "@jupyter-widgets/base",
            "_view_module_version": "1.2.0",
            "_view_name": "LayoutView",
            "align_content": null,
            "align_items": null,
            "align_self": null,
            "border": null,
            "bottom": null,
            "display": null,
            "flex": null,
            "flex_flow": null,
            "grid_area": null,
            "grid_auto_columns": null,
            "grid_auto_flow": null,
            "grid_auto_rows": null,
            "grid_column": null,
            "grid_gap": null,
            "grid_row": null,
            "grid_template_areas": null,
            "grid_template_columns": null,
            "grid_template_rows": null,
            "height": null,
            "justify_content": null,
            "justify_items": null,
            "left": null,
            "margin": null,
            "max_height": null,
            "max_width": null,
            "min_height": null,
            "min_width": null,
            "object_fit": null,
            "object_position": null,
            "order": null,
            "overflow": null,
            "overflow_x": null,
            "overflow_y": null,
            "padding": null,
            "right": null,
            "top": null,
            "visibility": null,
            "width": null
          }
        },
        "8d30f46f009748ffa9c6ef521527613f": {
          "model_module": "@jupyter-widgets/controls",
          "model_name": "ProgressStyleModel",
          "model_module_version": "1.5.0",
          "state": {
            "_model_module": "@jupyter-widgets/controls",
            "_model_module_version": "1.5.0",
            "_model_name": "ProgressStyleModel",
            "_view_count": null,
            "_view_module": "@jupyter-widgets/base",
            "_view_module_version": "1.2.0",
            "_view_name": "StyleView",
            "bar_color": null,
            "description_width": ""
          }
        },
        "bbe4340e7d2146778bb26a4ef4abbf66": {
          "model_module": "@jupyter-widgets/base",
          "model_name": "LayoutModel",
          "model_module_version": "1.2.0",
          "state": {
            "_model_module": "@jupyter-widgets/base",
            "_model_module_version": "1.2.0",
            "_model_name": "LayoutModel",
            "_view_count": null,
            "_view_module": "@jupyter-widgets/base",
            "_view_module_version": "1.2.0",
            "_view_name": "LayoutView",
            "align_content": null,
            "align_items": null,
            "align_self": null,
            "border": null,
            "bottom": null,
            "display": null,
            "flex": null,
            "flex_flow": null,
            "grid_area": null,
            "grid_auto_columns": null,
            "grid_auto_flow": null,
            "grid_auto_rows": null,
            "grid_column": null,
            "grid_gap": null,
            "grid_row": null,
            "grid_template_areas": null,
            "grid_template_columns": null,
            "grid_template_rows": null,
            "height": null,
            "justify_content": null,
            "justify_items": null,
            "left": null,
            "margin": null,
            "max_height": null,
            "max_width": null,
            "min_height": null,
            "min_width": null,
            "object_fit": null,
            "object_position": null,
            "order": null,
            "overflow": null,
            "overflow_x": null,
            "overflow_y": null,
            "padding": null,
            "right": null,
            "top": null,
            "visibility": null,
            "width": null
          }
        },
        "4b320c08c6d14720bc791f0b70cb0300": {
          "model_module": "@jupyter-widgets/controls",
          "model_name": "DescriptionStyleModel",
          "model_module_version": "1.5.0",
          "state": {
            "_model_module": "@jupyter-widgets/controls",
            "_model_module_version": "1.5.0",
            "_model_name": "DescriptionStyleModel",
            "_view_count": null,
            "_view_module": "@jupyter-widgets/base",
            "_view_module_version": "1.2.0",
            "_view_name": "StyleView",
            "description_width": ""
          }
        }
      }
    }
  },
  "cells": [
    {
      "cell_type": "code",
      "source": [
        "!git clone https://github.com/DrikDrik/sber-movqgan-project"
      ],
      "metadata": {
        "colab": {
          "base_uri": "https://localhost:8080/"
        },
        "id": "bNwWYD2z_R7k",
        "outputId": "a1b43252-7a25-4ed9-a837-174b739d97cb"
      },
      "execution_count": 1,
      "outputs": [
        {
          "output_type": "stream",
          "name": "stdout",
          "text": [
            "Cloning into 'sber-movqgan-project'...\n",
            "remote: Enumerating objects: 171, done.\u001b[K\n",
            "remote: Counting objects: 100% (91/91), done.\u001b[K\n",
            "remote: Compressing objects: 100% (90/90), done.\u001b[K\n",
            "remote: Total 171 (delta 34), reused 0 (delta 0), pack-reused 80 (from 2)\u001b[K\n",
            "Receiving objects: 100% (171/171), 50.54 MiB | 15.92 MiB/s, done.\n",
            "Resolving deltas: 100% (60/60), done.\n"
          ]
        }
      ]
    },
    {
      "cell_type": "code",
      "source": [
        "import sys\n",
        "sys.path.append('/content/sber-movqgan-project/')"
      ],
      "metadata": {
        "id": "GfCYtXwU_mhp"
      },
      "execution_count": 1,
      "outputs": []
    },
    {
      "cell_type": "code",
      "source": [
        "!pip install pip==24.0\n",
        "!pip install -r 'sber-movqgan-project/requirements.txt'"
      ],
      "metadata": {
        "colab": {
          "base_uri": "https://localhost:8080/"
        },
        "id": "dL1BlYwn_xWx",
        "outputId": "e5e277de-112e-4988-f8ea-1327b097f7b3"
      },
      "execution_count": 2,
      "outputs": [
        {
          "output_type": "stream",
          "name": "stdout",
          "text": [
            "Requirement already satisfied: pip==24.0 in /usr/local/lib/python3.11/dist-packages (24.0)\n",
            "\u001b[33mDEPRECATION: pytorch-lightning 1.5.10 has a non-standard dependency specifier torch>=1.7.*. pip 24.1 will enforce this behaviour change. A possible replacement is to upgrade to a newer version of pytorch-lightning or contact the author to suggest that they release a version with a conforming dependency specifiers. Discussion can be found at https://github.com/pypa/pip/issues/12063\u001b[0m\u001b[33m\n",
            "\u001b[0m\u001b[33mDEPRECATION: omegaconf 2.0.6 has a non-standard dependency specifier PyYAML>=5.1.*. pip 24.1 will enforce this behaviour change. A possible replacement is to upgrade to a newer version of omegaconf or contact the author to suggest that they release a version with a conforming dependency specifiers. Discussion can be found at https://github.com/pypa/pip/issues/12063\u001b[0m\u001b[33m\n",
            "\u001b[0mRequirement already satisfied: pip==24.0 in /usr/local/lib/python3.11/dist-packages (from -r sber-movqgan-project/requirements.txt (line 1)) (24.0)\n",
            "Requirement already satisfied: pytorch_lightning==1.5.10 in /usr/local/lib/python3.11/dist-packages (from -r sber-movqgan-project/requirements.txt (line 2)) (1.5.10)\n",
            "Requirement already satisfied: omegaconf==2.0.6 in /usr/local/lib/python3.11/dist-packages (from -r sber-movqgan-project/requirements.txt (line 3)) (2.0.6)\n",
            "Requirement already satisfied: wandb==0.12.21 in /usr/local/lib/python3.11/dist-packages (from -r sber-movqgan-project/requirements.txt (line 4)) (0.12.21)\n",
            "Requirement already satisfied: transformers==4.23.1 in /usr/local/lib/python3.11/dist-packages (from -r sber-movqgan-project/requirements.txt (line 5)) (4.23.1)\n",
            "Requirement already satisfied: einops in /usr/local/lib/python3.11/dist-packages (from -r sber-movqgan-project/requirements.txt (line 6)) (0.8.1)\n",
            "Requirement already satisfied: fsspec in /usr/local/lib/python3.11/dist-packages (from -r sber-movqgan-project/requirements.txt (line 7)) (2025.3.2)\n",
            "Requirement already satisfied: torch in /usr/local/lib/python3.11/dist-packages (from -r sber-movqgan-project/requirements.txt (line 8)) (2.3.1)\n",
            "Requirement already satisfied: huggingface_hub==0.24.0 in /usr/local/lib/python3.11/dist-packages (from -r sber-movqgan-project/requirements.txt (line 9)) (0.24.0)\n",
            "Requirement already satisfied: numpy==1.26.4 in /usr/local/lib/python3.11/dist-packages (from -r sber-movqgan-project/requirements.txt (line 10)) (1.26.4)\n",
            "Requirement already satisfied: torchvision==0.18.1 in /usr/local/lib/python3.11/dist-packages (from -r sber-movqgan-project/requirements.txt (line 11)) (0.18.1)\n",
            "Requirement already satisfied: future>=0.17.1 in /usr/local/lib/python3.11/dist-packages (from pytorch_lightning==1.5.10->-r sber-movqgan-project/requirements.txt (line 2)) (1.0.0)\n",
            "Requirement already satisfied: tqdm>=4.41.0 in /usr/local/lib/python3.11/dist-packages (from pytorch_lightning==1.5.10->-r sber-movqgan-project/requirements.txt (line 2)) (4.67.1)\n",
            "Requirement already satisfied: PyYAML>=5.1 in /usr/local/lib/python3.11/dist-packages (from pytorch_lightning==1.5.10->-r sber-movqgan-project/requirements.txt (line 2)) (6.0.2)\n",
            "Requirement already satisfied: tensorboard>=2.2.0 in /usr/local/lib/python3.11/dist-packages (from pytorch_lightning==1.5.10->-r sber-movqgan-project/requirements.txt (line 2)) (2.18.0)\n",
            "Requirement already satisfied: torchmetrics>=0.4.1 in /usr/local/lib/python3.11/dist-packages (from pytorch_lightning==1.5.10->-r sber-movqgan-project/requirements.txt (line 2)) (1.7.1)\n",
            "Requirement already satisfied: pyDeprecate==0.3.1 in /usr/local/lib/python3.11/dist-packages (from pytorch_lightning==1.5.10->-r sber-movqgan-project/requirements.txt (line 2)) (0.3.1)\n",
            "Requirement already satisfied: packaging>=17.0 in /usr/local/lib/python3.11/dist-packages (from pytorch_lightning==1.5.10->-r sber-movqgan-project/requirements.txt (line 2)) (24.2)\n",
            "Requirement already satisfied: typing-extensions in /usr/local/lib/python3.11/dist-packages (from pytorch_lightning==1.5.10->-r sber-movqgan-project/requirements.txt (line 2)) (4.13.2)\n",
            "Requirement already satisfied: setuptools==59.5.0 in /usr/local/lib/python3.11/dist-packages (from pytorch_lightning==1.5.10->-r sber-movqgan-project/requirements.txt (line 2)) (59.5.0)\n",
            "Requirement already satisfied: Click!=8.0.0,>=7.0 in /usr/local/lib/python3.11/dist-packages (from wandb==0.12.21->-r sber-movqgan-project/requirements.txt (line 4)) (8.1.8)\n",
            "Requirement already satisfied: GitPython>=1.0.0 in /usr/local/lib/python3.11/dist-packages (from wandb==0.12.21->-r sber-movqgan-project/requirements.txt (line 4)) (3.1.44)\n",
            "Requirement already satisfied: requests<3,>=2.0.0 in /usr/local/lib/python3.11/dist-packages (from wandb==0.12.21->-r sber-movqgan-project/requirements.txt (line 4)) (2.32.3)\n",
            "Requirement already satisfied: promise<3,>=2.0 in /usr/local/lib/python3.11/dist-packages (from wandb==0.12.21->-r sber-movqgan-project/requirements.txt (line 4)) (2.3)\n",
            "Requirement already satisfied: shortuuid>=0.5.0 in /usr/local/lib/python3.11/dist-packages (from wandb==0.12.21->-r sber-movqgan-project/requirements.txt (line 4)) (1.0.13)\n",
            "Requirement already satisfied: psutil>=5.0.0 in /usr/local/lib/python3.11/dist-packages (from wandb==0.12.21->-r sber-movqgan-project/requirements.txt (line 4)) (5.9.5)\n",
            "Requirement already satisfied: sentry-sdk>=1.0.0 in /usr/local/lib/python3.11/dist-packages (from wandb==0.12.21->-r sber-movqgan-project/requirements.txt (line 4)) (2.27.0)\n",
            "Requirement already satisfied: six>=1.13.0 in /usr/local/lib/python3.11/dist-packages (from wandb==0.12.21->-r sber-movqgan-project/requirements.txt (line 4)) (1.17.0)\n",
            "Requirement already satisfied: docker-pycreds>=0.4.0 in /usr/local/lib/python3.11/dist-packages (from wandb==0.12.21->-r sber-movqgan-project/requirements.txt (line 4)) (0.4.0)\n",
            "Requirement already satisfied: protobuf<4.0dev,>=3.12.0 in /usr/local/lib/python3.11/dist-packages (from wandb==0.12.21->-r sber-movqgan-project/requirements.txt (line 4)) (3.20.3)\n",
            "Requirement already satisfied: pathtools in /usr/local/lib/python3.11/dist-packages (from wandb==0.12.21->-r sber-movqgan-project/requirements.txt (line 4)) (0.1.2)\n",
            "Requirement already satisfied: setproctitle in /usr/local/lib/python3.11/dist-packages (from wandb==0.12.21->-r sber-movqgan-project/requirements.txt (line 4)) (1.3.5)\n",
            "Requirement already satisfied: filelock in /usr/local/lib/python3.11/dist-packages (from transformers==4.23.1->-r sber-movqgan-project/requirements.txt (line 5)) (3.18.0)\n",
            "Requirement already satisfied: regex!=2019.12.17 in /usr/local/lib/python3.11/dist-packages (from transformers==4.23.1->-r sber-movqgan-project/requirements.txt (line 5)) (2024.11.6)\n",
            "Requirement already satisfied: tokenizers!=0.11.3,<0.14,>=0.11.1 in /usr/local/lib/python3.11/dist-packages (from transformers==4.23.1->-r sber-movqgan-project/requirements.txt (line 5)) (0.13.3)\n",
            "Requirement already satisfied: pillow!=8.3.*,>=5.3.0 in /usr/local/lib/python3.11/dist-packages (from torchvision==0.18.1->-r sber-movqgan-project/requirements.txt (line 11)) (11.2.1)\n",
            "Requirement already satisfied: sympy in /usr/local/lib/python3.11/dist-packages (from torch->-r sber-movqgan-project/requirements.txt (line 8)) (1.13.1)\n",
            "Requirement already satisfied: networkx in /usr/local/lib/python3.11/dist-packages (from torch->-r sber-movqgan-project/requirements.txt (line 8)) (3.4.2)\n",
            "Requirement already satisfied: jinja2 in /usr/local/lib/python3.11/dist-packages (from torch->-r sber-movqgan-project/requirements.txt (line 8)) (3.1.6)\n",
            "Requirement already satisfied: nvidia-cuda-nvrtc-cu12==12.1.105 in /usr/local/lib/python3.11/dist-packages (from torch->-r sber-movqgan-project/requirements.txt (line 8)) (12.1.105)\n",
            "Requirement already satisfied: nvidia-cuda-runtime-cu12==12.1.105 in /usr/local/lib/python3.11/dist-packages (from torch->-r sber-movqgan-project/requirements.txt (line 8)) (12.1.105)\n",
            "Requirement already satisfied: nvidia-cuda-cupti-cu12==12.1.105 in /usr/local/lib/python3.11/dist-packages (from torch->-r sber-movqgan-project/requirements.txt (line 8)) (12.1.105)\n",
            "Requirement already satisfied: nvidia-cudnn-cu12==8.9.2.26 in /usr/local/lib/python3.11/dist-packages (from torch->-r sber-movqgan-project/requirements.txt (line 8)) (8.9.2.26)\n",
            "Requirement already satisfied: nvidia-cublas-cu12==12.1.3.1 in /usr/local/lib/python3.11/dist-packages (from torch->-r sber-movqgan-project/requirements.txt (line 8)) (12.1.3.1)\n",
            "Requirement already satisfied: nvidia-cufft-cu12==11.0.2.54 in /usr/local/lib/python3.11/dist-packages (from torch->-r sber-movqgan-project/requirements.txt (line 8)) (11.0.2.54)\n",
            "Requirement already satisfied: nvidia-curand-cu12==10.3.2.106 in /usr/local/lib/python3.11/dist-packages (from torch->-r sber-movqgan-project/requirements.txt (line 8)) (10.3.2.106)\n",
            "Requirement already satisfied: nvidia-cusolver-cu12==11.4.5.107 in /usr/local/lib/python3.11/dist-packages (from torch->-r sber-movqgan-project/requirements.txt (line 8)) (11.4.5.107)\n",
            "Requirement already satisfied: nvidia-cusparse-cu12==12.1.0.106 in /usr/local/lib/python3.11/dist-packages (from torch->-r sber-movqgan-project/requirements.txt (line 8)) (12.1.0.106)\n",
            "Requirement already satisfied: nvidia-nccl-cu12==2.20.5 in /usr/local/lib/python3.11/dist-packages (from torch->-r sber-movqgan-project/requirements.txt (line 8)) (2.20.5)\n",
            "Requirement already satisfied: nvidia-nvtx-cu12==12.1.105 in /usr/local/lib/python3.11/dist-packages (from torch->-r sber-movqgan-project/requirements.txt (line 8)) (12.1.105)\n",
            "Requirement already satisfied: triton==2.3.1 in /usr/local/lib/python3.11/dist-packages (from torch->-r sber-movqgan-project/requirements.txt (line 8)) (2.3.1)\n",
            "Requirement already satisfied: nvidia-nvjitlink-cu12 in /usr/local/lib/python3.11/dist-packages (from nvidia-cusolver-cu12==11.4.5.107->torch->-r sber-movqgan-project/requirements.txt (line 8)) (12.5.82)\n",
            "Requirement already satisfied: aiohttp!=4.0.0a0,!=4.0.0a1 in /usr/local/lib/python3.11/dist-packages (from fsspec[http]!=2021.06.0,>=2021.05.0->pytorch_lightning==1.5.10->-r sber-movqgan-project/requirements.txt (line 2)) (3.11.15)\n",
            "Requirement already satisfied: gitdb<5,>=4.0.1 in /usr/local/lib/python3.11/dist-packages (from GitPython>=1.0.0->wandb==0.12.21->-r sber-movqgan-project/requirements.txt (line 4)) (4.0.12)\n",
            "Requirement already satisfied: charset-normalizer<4,>=2 in /usr/local/lib/python3.11/dist-packages (from requests<3,>=2.0.0->wandb==0.12.21->-r sber-movqgan-project/requirements.txt (line 4)) (3.4.1)\n",
            "Requirement already satisfied: idna<4,>=2.5 in /usr/local/lib/python3.11/dist-packages (from requests<3,>=2.0.0->wandb==0.12.21->-r sber-movqgan-project/requirements.txt (line 4)) (3.10)\n",
            "Requirement already satisfied: urllib3<3,>=1.21.1 in /usr/local/lib/python3.11/dist-packages (from requests<3,>=2.0.0->wandb==0.12.21->-r sber-movqgan-project/requirements.txt (line 4)) (2.4.0)\n",
            "Requirement already satisfied: certifi>=2017.4.17 in /usr/local/lib/python3.11/dist-packages (from requests<3,>=2.0.0->wandb==0.12.21->-r sber-movqgan-project/requirements.txt (line 4)) (2025.1.31)\n",
            "Requirement already satisfied: absl-py>=0.4 in /usr/local/lib/python3.11/dist-packages (from tensorboard>=2.2.0->pytorch_lightning==1.5.10->-r sber-movqgan-project/requirements.txt (line 2)) (1.4.0)\n",
            "Requirement already satisfied: grpcio>=1.48.2 in /usr/local/lib/python3.11/dist-packages (from tensorboard>=2.2.0->pytorch_lightning==1.5.10->-r sber-movqgan-project/requirements.txt (line 2)) (1.71.0)\n",
            "Requirement already satisfied: markdown>=2.6.8 in /usr/local/lib/python3.11/dist-packages (from tensorboard>=2.2.0->pytorch_lightning==1.5.10->-r sber-movqgan-project/requirements.txt (line 2)) (3.8)\n",
            "Requirement already satisfied: tensorboard-data-server<0.8.0,>=0.7.0 in /usr/local/lib/python3.11/dist-packages (from tensorboard>=2.2.0->pytorch_lightning==1.5.10->-r sber-movqgan-project/requirements.txt (line 2)) (0.7.2)\n",
            "Requirement already satisfied: werkzeug>=1.0.1 in /usr/local/lib/python3.11/dist-packages (from tensorboard>=2.2.0->pytorch_lightning==1.5.10->-r sber-movqgan-project/requirements.txt (line 2)) (3.1.3)\n",
            "Requirement already satisfied: lightning-utilities>=0.8.0 in /usr/local/lib/python3.11/dist-packages (from torchmetrics>=0.4.1->pytorch_lightning==1.5.10->-r sber-movqgan-project/requirements.txt (line 2)) (0.14.3)\n",
            "Requirement already satisfied: MarkupSafe>=2.0 in /usr/local/lib/python3.11/dist-packages (from jinja2->torch->-r sber-movqgan-project/requirements.txt (line 8)) (3.0.2)\n",
            "Requirement already satisfied: mpmath<1.4,>=1.1.0 in /usr/local/lib/python3.11/dist-packages (from sympy->torch->-r sber-movqgan-project/requirements.txt (line 8)) (1.3.0)\n",
            "Requirement already satisfied: aiohappyeyeballs>=2.3.0 in /usr/local/lib/python3.11/dist-packages (from aiohttp!=4.0.0a0,!=4.0.0a1->fsspec[http]!=2021.06.0,>=2021.05.0->pytorch_lightning==1.5.10->-r sber-movqgan-project/requirements.txt (line 2)) (2.6.1)\n",
            "Requirement already satisfied: aiosignal>=1.1.2 in /usr/local/lib/python3.11/dist-packages (from aiohttp!=4.0.0a0,!=4.0.0a1->fsspec[http]!=2021.06.0,>=2021.05.0->pytorch_lightning==1.5.10->-r sber-movqgan-project/requirements.txt (line 2)) (1.3.2)\n",
            "Requirement already satisfied: attrs>=17.3.0 in /usr/local/lib/python3.11/dist-packages (from aiohttp!=4.0.0a0,!=4.0.0a1->fsspec[http]!=2021.06.0,>=2021.05.0->pytorch_lightning==1.5.10->-r sber-movqgan-project/requirements.txt (line 2)) (25.3.0)\n",
            "Requirement already satisfied: frozenlist>=1.1.1 in /usr/local/lib/python3.11/dist-packages (from aiohttp!=4.0.0a0,!=4.0.0a1->fsspec[http]!=2021.06.0,>=2021.05.0->pytorch_lightning==1.5.10->-r sber-movqgan-project/requirements.txt (line 2)) (1.6.0)\n",
            "Requirement already satisfied: multidict<7.0,>=4.5 in /usr/local/lib/python3.11/dist-packages (from aiohttp!=4.0.0a0,!=4.0.0a1->fsspec[http]!=2021.06.0,>=2021.05.0->pytorch_lightning==1.5.10->-r sber-movqgan-project/requirements.txt (line 2)) (6.4.3)\n",
            "Requirement already satisfied: propcache>=0.2.0 in /usr/local/lib/python3.11/dist-packages (from aiohttp!=4.0.0a0,!=4.0.0a1->fsspec[http]!=2021.06.0,>=2021.05.0->pytorch_lightning==1.5.10->-r sber-movqgan-project/requirements.txt (line 2)) (0.3.1)\n",
            "Requirement already satisfied: yarl<2.0,>=1.17.0 in /usr/local/lib/python3.11/dist-packages (from aiohttp!=4.0.0a0,!=4.0.0a1->fsspec[http]!=2021.06.0,>=2021.05.0->pytorch_lightning==1.5.10->-r sber-movqgan-project/requirements.txt (line 2)) (1.20.0)\n",
            "Requirement already satisfied: smmap<6,>=3.0.1 in /usr/local/lib/python3.11/dist-packages (from gitdb<5,>=4.0.1->GitPython>=1.0.0->wandb==0.12.21->-r sber-movqgan-project/requirements.txt (line 4)) (5.0.2)\n",
            "\u001b[33mDEPRECATION: pytorch-lightning 1.5.10 has a non-standard dependency specifier torch>=1.7.*. pip 24.1 will enforce this behaviour change. A possible replacement is to upgrade to a newer version of pytorch-lightning or contact the author to suggest that they release a version with a conforming dependency specifiers. Discussion can be found at https://github.com/pypa/pip/issues/12063\u001b[0m\u001b[33m\n",
            "\u001b[0m\u001b[33mDEPRECATION: omegaconf 2.0.6 has a non-standard dependency specifier PyYAML>=5.1.*. pip 24.1 will enforce this behaviour change. A possible replacement is to upgrade to a newer version of omegaconf or contact the author to suggest that they release a version with a conforming dependency specifiers. Discussion can be found at https://github.com/pypa/pip/issues/12063\u001b[0m\u001b[33m\n",
            "\u001b[0m"
          ]
        }
      ]
    },
    {
      "cell_type": "code",
      "source": [
        "from models.DDPM.model import generate_new_images\n",
        "from pipeline.movqgan import decode\n",
        "from pipeline.show import show_images"
      ],
      "metadata": {
        "id": "nTFoiRrEKj__"
      },
      "execution_count": 3,
      "outputs": []
    },
    {
      "cell_type": "code",
      "execution_count": 4,
      "metadata": {
        "id": "2ZcQiLPe5fAB"
      },
      "outputs": [],
      "source": [
        "from utils.imports import *"
      ]
    },
    {
      "cell_type": "code",
      "source": [
        "from pipeline.movqgan import get_model, decode\n",
        "model = get_model()"
      ],
      "metadata": {
        "id": "NrS5jT5I5klV",
        "colab": {
          "base_uri": "https://localhost:8080/",
          "height": 290,
          "referenced_widgets": [
            "bbf6a60d0a7b45e39d45045a471f2a63",
            "3e1402d931ee4567899273df662a3819",
            "e3f9f5981deb4091be0eb9ded9a8f054",
            "22dcb0051afa4dc7a433d4bcddfda0eb",
            "bcef91315cda41138e3d73330ea0d0e4",
            "ebc6c89a0d704433992d8a2a5e42d96a",
            "f86416505f864e1d9f4b5725fdcfba24",
            "84bc2850a98440e5a72acf17e3e5d952",
            "8d30f46f009748ffa9c6ef521527613f",
            "bbe4340e7d2146778bb26a4ef4abbf66",
            "4b320c08c6d14720bc791f0b70cb0300"
          ]
        },
        "outputId": "4ad01463-32c2-41f5-ec7d-f562ef538faa"
      },
      "execution_count": 5,
      "outputs": [
        {
          "output_type": "stream",
          "name": "stdout",
          "text": [
            "Cloning MoVQGAN repository...\n",
            "Working with z of shape (1, 4, 32, 32) = 4096 dimensions.\n"
          ]
        },
        {
          "output_type": "stream",
          "name": "stderr",
          "text": [
            "/usr/local/lib/python3.11/dist-packages/huggingface_hub/utils/_deprecation.py:131: FutureWarning: 'cached_download' (from 'huggingface_hub.file_download') is deprecated and will be removed from version '0.26'. Use `hf_hub_download` instead.\n",
            "  warnings.warn(warning_message, FutureWarning)\n",
            "/usr/local/lib/python3.11/dist-packages/huggingface_hub/file_download.py:680: FutureWarning: 'cached_download' is the legacy way to download files from the HF hub, please consider upgrading to 'hf_hub_download'\n",
            "  warnings.warn(\n",
            "/usr/local/lib/python3.11/dist-packages/huggingface_hub/utils/_token.py:89: UserWarning: \n",
            "The secret `HF_TOKEN` does not exist in your Colab secrets.\n",
            "To authenticate with the Hugging Face Hub, create a token in your settings tab (https://huggingface.co/settings/tokens), set it as secret in your Google Colab and restart your session.\n",
            "You will be able to reuse this secret in all of your notebooks.\n",
            "Please note that authentication is recommended but still optional to access public models or datasets.\n",
            "  warnings.warn(\n"
          ]
        },
        {
          "output_type": "display_data",
          "data": {
            "text/plain": [
              "movqgan_67M.ckpt:   0%|          | 0.00/271M [00:00<?, ?B/s]"
            ],
            "application/vnd.jupyter.widget-view+json": {
              "version_major": 2,
              "version_minor": 0,
              "model_id": "bbf6a60d0a7b45e39d45045a471f2a63"
            }
          },
          "metadata": {}
        }
      ]
    },
    {
      "cell_type": "code",
      "source": [
        "from utils import download_datasets\n",
        "download_datasets.main()"
      ],
      "metadata": {
        "id": "OBlSBk6c5mIc",
        "colab": {
          "base_uri": "https://localhost:8080/"
        },
        "outputId": "2ccf1931-9efe-4329-9930-d24d7df6f564"
      },
      "execution_count": 6,
      "outputs": [
        {
          "output_type": "stream",
          "name": "stdout",
          "text": [
            "Downloading latent_dataset.zip...\n"
          ]
        },
        {
          "output_type": "stream",
          "name": "stderr",
          "text": [
            "Downloading...\n",
            "From (original): https://drive.google.com/uc?id=1QMnCbjiuMjxfr5VVt8CL05YBanG6vDoS\n",
            "From (redirected): https://drive.google.com/uc?id=1QMnCbjiuMjxfr5VVt8CL05YBanG6vDoS&confirm=t&uuid=72ca283b-daa6-4907-aae5-07cf54268070\n",
            "To: /content/datasets/latent_dataset.zip\n",
            "100%|██████████| 1.50G/1.50G [00:12<00:00, 121MB/s]\n"
          ]
        },
        {
          "output_type": "stream",
          "name": "stdout",
          "text": [
            "Downloading celeba_dataset.zip...\n"
          ]
        },
        {
          "output_type": "stream",
          "name": "stderr",
          "text": [
            "Downloading...\n",
            "From (original): https://drive.google.com/uc?id=1Cw5FQUUSs8KO36m4mPS-gSOT-HngP4QC\n",
            "From (redirected): https://drive.google.com/uc?id=1Cw5FQUUSs8KO36m4mPS-gSOT-HngP4QC&confirm=t&uuid=aafd416b-cde3-4c31-99b5-5b137b6883ac\n",
            "To: /content/datasets/celeba_dataset.zip\n",
            "100%|██████████| 1.44G/1.44G [00:18<00:00, 79.2MB/s]\n",
            "Retrieving folder contents\n"
          ]
        },
        {
          "output_type": "stream",
          "name": "stdout",
          "text": [
            "Downloading annotations folder...\n",
            "Processing file 1rKWX0FxbPH6Ia_-nCIfego4i9FtEb4ip identity_CelebA.txt\n",
            "Processing file 10HSj1AAC531ly4mAX566gt6cldD9u129 list_attr_celeba.txt\n",
            "Processing file 1tNNkNK2qfjEjeu0eh_DA_3ksxltyPvjW list_bbox_celeba.txt\n",
            "Processing file 1nUyN0v9EzvCI0yTM7PtlCrZBsdqttphS list_landmarks_align_celeba.txt\n",
            "Processing file 1rPbC5hf4zFeWuGkVDVoqTVos6G2mvi6s list_landmarks_celeba.txt\n"
          ]
        },
        {
          "output_type": "stream",
          "name": "stderr",
          "text": [
            "Retrieving folder contents completed\n",
            "Building directory structure\n",
            "Building directory structure completed\n",
            "Downloading...\n",
            "From: https://drive.google.com/uc?id=1rKWX0FxbPH6Ia_-nCIfego4i9FtEb4ip\n",
            "To: /content/datasets/annotations/identity_CelebA.txt\n",
            "100%|██████████| 3.42M/3.42M [00:00<00:00, 21.3MB/s]\n",
            "Downloading...\n",
            "From: https://drive.google.com/uc?id=10HSj1AAC531ly4mAX566gt6cldD9u129\n",
            "To: /content/datasets/annotations/list_attr_celeba.txt\n",
            "100%|██████████| 26.7M/26.7M [00:00<00:00, 70.0MB/s]\n",
            "Downloading...\n",
            "From: https://drive.google.com/uc?id=1tNNkNK2qfjEjeu0eh_DA_3ksxltyPvjW\n",
            "To: /content/datasets/annotations/list_bbox_celeba.txt\n",
            "100%|██████████| 6.08M/6.08M [00:00<00:00, 33.6MB/s]\n",
            "Downloading...\n",
            "From: https://drive.google.com/uc?id=1nUyN0v9EzvCI0yTM7PtlCrZBsdqttphS\n",
            "To: /content/datasets/annotations/list_landmarks_align_celeba.txt\n",
            "100%|██████████| 12.2M/12.2M [00:00<00:00, 53.6MB/s]\n",
            "Downloading...\n",
            "From: https://drive.google.com/uc?id=1rPbC5hf4zFeWuGkVDVoqTVos6G2mvi6s\n",
            "To: /content/datasets/annotations/list_landmarks_celeba.txt\n",
            "100%|██████████| 12.4M/12.4M [00:00<00:00, 27.5MB/s]"
          ]
        },
        {
          "output_type": "stream",
          "name": "stdout",
          "text": [
            "All downloads completed.\n"
          ]
        },
        {
          "output_type": "stream",
          "name": "stderr",
          "text": [
            "\n",
            "Download completed\n"
          ]
        }
      ]
    },
    {
      "cell_type": "code",
      "source": [
        "!unzip -q datasets/latent_dataset.zip -d '/content/latent_representations/'"
      ],
      "metadata": {
        "id": "-_szWPZ0NuyV"
      },
      "execution_count": 7,
      "outputs": []
    },
    {
      "cell_type": "code",
      "source": [
        "from pipeline.get_latent import LatentDataset"
      ],
      "metadata": {
        "id": "uCTRLlxT6FJC"
      },
      "execution_count": 8,
      "outputs": []
    },
    {
      "cell_type": "code",
      "source": [
        "import os\n",
        "dataset = LatentDataset('latent_representations')\n",
        "loader = DataLoader(dataset, batch_size=128, shuffle=True)"
      ],
      "metadata": {
        "id": "vKQWuAuK6Hla"
      },
      "execution_count": 9,
      "outputs": []
    },
    {
      "cell_type": "code",
      "source": [
        "from models.DDPM.model import DDPM, generate_new_images, UNet\n",
        "device='cuda'\n",
        "n_steps, min_beta, max_beta = 1000, 0.0001, 0.02\n",
        "ddpm = DDPM(UNet(), n_steps=n_steps, min_beta=min_beta, max_beta=max_beta, device=device)"
      ],
      "metadata": {
        "id": "h9tSjrGz6J7N"
      },
      "execution_count": 10,
      "outputs": []
    },
    {
      "cell_type": "code",
      "source": [
        "from models.DDPM.train import training_loop as training_loop"
      ],
      "metadata": {
        "id": "4cZT1m8-6L5r"
      },
      "execution_count": 11,
      "outputs": []
    },
    {
      "cell_type": "code",
      "source": [
        "store_path=\"/content/checkpoints/project_ddpm_best.ckpt\""
      ],
      "metadata": {
        "id": "TJ7ix7IfOiVC"
      },
      "execution_count": 12,
      "outputs": []
    },
    {
      "cell_type": "code",
      "source": [
        "# Training\n",
        "n_epochs = 200\n",
        "lr = 0.00001\n",
        "loader = DataLoader(dataset, batch_size=128, shuffle=True)\n",
        "if not os.path.isdir(os.path.dirname(store_path)): os.mkdir(os.path.dirname(store_path))\n",
        "training_loop(ddpm, loader, n_epochs, optim=torch.optim.AdamW(ddpm.parameters(), lr), device=device, store_path=store_path, model=model)\n"
      ],
      "metadata": {
        "id": "NpkS-QczOUui"
      },
      "execution_count": null,
      "outputs": []
    }
  ]
}