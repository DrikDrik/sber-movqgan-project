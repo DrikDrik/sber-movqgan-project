{
  "nbformat": 4,
  "nbformat_minor": 0,
  "metadata": {
    "colab": {
      "provenance": [],
      "gpuType": "T4"
    },
    "kernelspec": {
      "name": "python3",
      "display_name": "Python 3"
    },
    "language_info": {
      "name": "python"
    },
    "accelerator": "GPU"
  },
  "cells": [
    {
      "cell_type": "code",
      "source": [
        "!git clone https://github.com/DrikDrik/sber-movqgan-project"
      ],
      "metadata": {
        "id": "bNwWYD2z_R7k"
      },
      "execution_count": null,
      "outputs": []
    },
    {
      "cell_type": "code",
      "source": [
        "import sys\n",
        "sys.path.append('/content/sber-movqgan-project/')"
      ],
      "metadata": {
        "id": "GfCYtXwU_mhp"
      },
      "execution_count": null,
      "outputs": []
    },
    {
      "cell_type": "code",
      "source": [
        "!pip install pip==24.0\n",
        "!pip install -r 'sber-movqgan-project/requirements.txt'"
      ],
      "metadata": {
        "id": "dL1BlYwn_xWx"
      },
      "execution_count": null,
      "outputs": []
    },
    {
      "cell_type": "code",
      "source": [
        "from models.DDPM.model import generate_new_images\n",
        "from pipeline.movqgan import decode\n",
        "from pipeline.show import show_images"
      ],
      "metadata": {
        "id": "nTFoiRrEKj__"
      },
      "execution_count": null,
      "outputs": []
    },
    {
      "cell_type": "code",
      "execution_count": null,
      "metadata": {
        "id": "2ZcQiLPe5fAB"
      },
      "outputs": [],
      "source": [
        "from utils.imports import *"
      ]
    },
    {
      "cell_type": "code",
      "source": [
        "from pipeline.movqgan import get_model, decode\n",
        "model = get_model()"
      ],
      "metadata": {
        "id": "NrS5jT5I5klV"
      },
      "execution_count": null,
      "outputs": []
    },
    {
      "cell_type": "code",
      "source": [
        "from utils import download_datasets\n",
        "download_datasets.main()"
      ],
      "metadata": {
        "id": "OBlSBk6c5mIc"
      },
      "execution_count": null,
      "outputs": []
    },
    {
      "cell_type": "code",
      "source": [
        "!unzip -q datasets/latent_dataset.zip -d '/content/latent_representations/'"
      ],
      "metadata": {
        "id": "-_szWPZ0NuyV"
      },
      "execution_count": null,
      "outputs": []
    },
    {
      "cell_type": "code",
      "source": [
        "from pipeline.get_latent import LatentDataset"
      ],
      "metadata": {
        "id": "uCTRLlxT6FJC"
      },
      "execution_count": null,
      "outputs": []
    },
    {
      "cell_type": "code",
      "source": [
        "import os\n",
        "dataset = LatentDataset('latent_representations')\n",
        "loader = DataLoader(dataset, batch_size=128, shuffle=True)"
      ],
      "metadata": {
        "id": "vKQWuAuK6Hla"
      },
      "execution_count": null,
      "outputs": []
    },
    {
      "cell_type": "code",
      "source": [
        "from models.DDPM.model import DDPM, generate_new_images, UNet\n",
        "device='cuda'\n",
        "n_steps, min_beta, max_beta = 1000, 0.0001, 0.02\n",
        "ddpm = DDPM(UNet(), n_steps=n_steps, min_beta=min_beta, max_beta=max_beta, device=device)"
      ],
      "metadata": {
        "id": "h9tSjrGz6J7N"
      },
      "execution_count": null,
      "outputs": []
    },
    {
      "cell_type": "code",
      "source": [
        "from models.DDPM.train import training_loop as training_loop"
      ],
      "metadata": {
        "id": "4cZT1m8-6L5r"
      },
      "execution_count": null,
      "outputs": []
    },
    {
      "cell_type": "code",
      "source": [
        "store_path=\"/content/checkpoints/project_ddpm_best.ckpt\""
      ],
      "metadata": {
        "id": "TJ7ix7IfOiVC"
      },
      "execution_count": null,
      "outputs": []
    },
    {
      "cell_type": "code",
      "source": [
        "# Training\n",
        "n_epochs = 200\n",
        "lr = 0.00001\n",
        "loader = DataLoader(dataset, batch_size=128, shuffle=True)\n",
        "if not os.path.isdir(os.path.dirname(store_path)): os.mkdir(os.path.dirname(store_path))\n",
        "training_loop(ddpm, loader, n_epochs, optim=torch.optim.AdamW(ddpm.parameters(), lr), device=device, store_path=store_path, model=model)\n"
      ],
      "metadata": {
        "id": "NpkS-QczOUui"
      },
      "execution_count": null,
      "outputs": []
    }
  ]
}